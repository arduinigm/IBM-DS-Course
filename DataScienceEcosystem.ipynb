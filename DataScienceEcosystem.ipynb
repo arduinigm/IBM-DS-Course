{
  "nbformat": 4,
  "nbformat_minor": 0,
  "metadata": {
    "colab": {
      "provenance": []
    },
    "kernelspec": {
      "name": "python3",
      "display_name": "Python 3"
    },
    "language_info": {
      "name": "python"
    }
  },
  "cells": [
    {
      "cell_type": "markdown",
      "source": [
        "#Data Science Tools and Ecosystem"
      ],
      "metadata": {
        "id": "do1DK7ELh_RZ"
      }
    },
    {
      "cell_type": "markdown",
      "source": [
        "## Author\n",
        "Giovanni Arduini"
      ],
      "metadata": {
        "id": "Ac9pVZa6nr9P"
      }
    },
    {
      "cell_type": "markdown",
      "source": [
        "In this notebook, Data Science Tools and Ecosystem are summarized."
      ],
      "metadata": {
        "id": "9S3NoycsizAh"
      }
    },
    {
      "cell_type": "markdown",
      "source": [
        "**Objectives:**\n",
        "\n",
        "\n",
        "*   List popular Data Science languages\n",
        "*   List useful Data Science libraries\n",
        "*   List Data Science tools\n",
        "*   Provide insights into aritmethics operations\n",
        "\n"
      ],
      "metadata": {
        "id": "OKn6puwqnFx_"
      }
    },
    {
      "cell_type": "markdown",
      "source": [
        "Some of the popular languages that Data Scientists use are:\n",
        "\n",
        "1.   Python\n",
        "2.   R\n",
        "3.   Julia\n",
        "4.   Scala\n",
        "5.   Java\n",
        "\n",
        "\n"
      ],
      "metadata": {
        "id": "jlQZ0t4gjHZA"
      }
    },
    {
      "cell_type": "markdown",
      "source": [
        "Some of the commonly used libraries used by Data Scientists include:\n",
        "1.   Numpy\n",
        "2.   Pandas\n",
        "3.   Scikit-learn\n",
        "4.   Matplotlib\n",
        "5.   Tensorflow"
      ],
      "metadata": {
        "id": "jRn6nCuSjuAw"
      }
    },
    {
      "cell_type": "markdown",
      "source": [
        "| Data Science Tools |\n",
        "|:------------------:|\n",
        "|JupyterLab|\n",
        "|RStudio|\n",
        "|Anaconda|"
      ],
      "metadata": {
        "id": "2FmzFVUmkQff"
      }
    },
    {
      "cell_type": "markdown",
      "source": [
        "### Below are a few examples of evaluating arithmetic expressions in Python:\n"
      ],
      "metadata": {
        "id": "xg3JPNQQmLNH"
      }
    },
    {
      "cell_type": "code",
      "source": [
        "# This a simple arithmetic expression to mutiply then add integers\n",
        "(3*4)+5"
      ],
      "metadata": {
        "colab": {
          "base_uri": "https://localhost:8080/"
        },
        "id": "deS8Z1Kcme8H",
        "outputId": "7e0f582b-8701-4a1c-d420-ff98c428461d"
      },
      "execution_count": 1,
      "outputs": [
        {
          "output_type": "execute_result",
          "data": {
            "text/plain": [
              "17"
            ]
          },
          "metadata": {},
          "execution_count": 1
        }
      ]
    },
    {
      "cell_type": "code",
      "source": [
        "#This will convert 200 minutes to hours by diving by 60\n",
        "minutes = 200\n",
        "hours = minutes/60\n",
        "hours"
      ],
      "metadata": {
        "colab": {
          "base_uri": "https://localhost:8080/"
        },
        "id": "_s6yxMiFmvMG",
        "outputId": "afff43a3-d564-4b64-8066-ea2ecbee8ceb"
      },
      "execution_count": 2,
      "outputs": [
        {
          "output_type": "execute_result",
          "data": {
            "text/plain": [
              "3.3333333333333335"
            ]
          },
          "metadata": {},
          "execution_count": 2
        }
      ]
    }
  ]
}